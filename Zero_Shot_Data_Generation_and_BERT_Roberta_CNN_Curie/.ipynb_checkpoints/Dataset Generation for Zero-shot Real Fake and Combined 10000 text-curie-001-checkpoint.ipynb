{
 "cells": [
  {
   "cell_type": "code",
   "execution_count": null,
   "metadata": {
    "colab": {
     "base_uri": "https://localhost:8080/",
     "height": 837
    },
    "executionInfo": {
     "elapsed": 14422932,
     "status": "error",
     "timestamp": 1690666748344,
     "user": {
      "displayName": "Thomas Sebastian",
      "userId": "15795710734502513346"
     },
     "user_tz": 240
    },
    "id": "ZUBNjf1DccAi",
    "outputId": "6ed00e10-0372-4882-c20c-ddbfbe19a062"
   },
   "outputs": [],
   "source": [
    "import importlib\n",
    "import os\n",
    "\n",
    "import numpy as np\n",
    "\n",
    "package = \"tensorflow\"\n",
    "\n",
    "try:\n",
    "    importlib.import_module(package)\n",
    "except ImportError:\n",
    "    !pip install - U {package}\n",
    "    importlib.import_module(package)\n",
    "\n",
    "package = \"openai\"\n",
    "try:\n",
    "    importlib.import_module(package)\n",
    "except ImportError:\n",
    "    !pip install --upgrade openai\n",
    "    import openai\n",
    "\n",
    "# Set up OpenAI API\n",
    "API_KEY = \"YOUR API KEY\"\n",
    "openai.api_key = API_KEY\n",
    "\n",
    "import csv\n",
    "from google.colab import drive\n",
    "drive.mount('/content/drive')\n",
    "\n",
    "\n",
    "# Specify the file paths\n",
    "generated_fake_data_file = \"/content/drive/MyDrive/Colab Notebooks/generated_fake_data5000text-curie-001.csv\"\n",
    "generated_real_data_file = \"/content/drive/MyDrive/Colab Notebooks/generated_real_data5000text-curie-001.csv\"\n",
    "combined_data_file = \"/content/drive/MyDrive/Colab Notebooks/generated_combined_data10000text-curie-001.csv\"\n",
    "\n",
    "# Delete generated_fake_datatext-curie-001.csv if it exists\n",
    "if os.path.exists(generated_fake_data_file):\n",
    "    os.remove(generated_fake_data_file)\n",
    "\n",
    "# Delete generated_real_datatext-curie-001.csv if it exists\n",
    "if os.path.exists(generated_real_data_file):\n",
    "    os.remove(generated_real_data_file)\n",
    "\n",
    "# Delete combined_datatext-curie-001.csv if it exists\n",
    "if os.path.exists(combined_data_file):\n",
    "    os.remove(combined_data_file)\n",
    "\n",
    "\n",
    "# This function generates a text based on the given prompt\n",
    "def generate_text(prompt, temperature=0.7, max_tokens=200):\n",
    "    response = openai.Completion.create(\n",
    "        engine=\"text-curie-001\",\n",
    "        prompt=prompt,\n",
    "        temperature=temperature,\n",
    "        max_tokens=max_tokens\n",
    "    )\n",
    "    return response.choices[0].text.strip()\n",
    "\n",
    "# A list to store the generated news\n",
    "news_data = []\n",
    "fake_news_data = []\n",
    "\n",
    "\n",
    "# Generate 10400 lines of news (real and fake)\n",
    "for i in range(5000):\n",
    "    # Real News\n",
    "    real_title = generate_text(\"Write a title for a news article from the past decade.\")\n",
    "    real_text = generate_text(\"Write a news article from the past decade.\")\n",
    "    news_data.append({'id': i, 'title': real_title, 'author': 'AI', 'text': real_text, 'label': '0'})\n",
    "\n",
    "    # Fake News\n",
    "    fake_title = generate_text(\"Write a title for fictional news article that has never happened in history\")\n",
    "    fake_text = generate_text(\"Write a fictional news article that is untrue and never happened in history\")\n",
    "    fake_news_data.append({'id': i, 'title': fake_title, 'author': 'AI', 'text': fake_text, 'label': '1'})\n",
    "\n",
    "    # Save the real news data to CSV file for each iteration\n",
    "    with open(generated_real_data_file, 'a', newline='') as csvfile:\n",
    "        fieldnames = ['id', 'title', 'author', 'text', 'label']\n",
    "        writer = csv.DictWriter(csvfile, fieldnames=fieldnames)\n",
    "        if i == 0:\n",
    "            writer.writeheader()\n",
    "        writer.writerow(news_data[-1])\n",
    "\n",
    "    # Save the fake news data to CSV file for each iteration\n",
    "    with open(generated_fake_data_file, 'a', newline='') as csvfile:\n",
    "        fieldnames = ['id', 'title', 'author', 'text', 'label']\n",
    "        writer = csv.DictWriter(csvfile, fieldnames=fieldnames)\n",
    "        if i == 0:\n",
    "            writer.writeheader()\n",
    "        writer.writerow(fake_news_data[-1])\n",
    "\n",
    "    # Combine the two datasets for each iteration\n",
    "    combined_data = fake_news_data + news_data\n",
    "\n",
    "    # Save the combined_data as a CSV file for each iteration\n",
    "    with open(combined_data_file, 'w', newline='') as csvfile:\n",
    "        fieldnames = ['id', 'title', 'author', 'text', 'label']\n",
    "        writer = csv.DictWriter(csvfile, fieldnames=fieldnames)\n",
    "        writer.writeheader()\n",
    "        writer.writerows(combined_data)"
   ]
  },
  {
   "cell_type": "markdown",
   "metadata": {
    "id": "_qqPrry2Nnu4"
   },
   "source": [
    "# New Section"
   ]
  }
 ],
 "metadata": {
  "colab": {
   "authorship_tag": "ABX9TyOgmPcGSd4SMNjLx6uz0udP",
   "machine_shape": "hm",
   "provenance": [
    {
     "file_id": "1suEb1FYGKBJs0d9bq7uRu-bbJ05F1bdi",
     "timestamp": 1690651836684
    },
    {
     "file_id": "12ZiF8A539YGaUqQwLh3NQlLT4WPFee6E",
     "timestamp": 1690492436854
    },
    {
     "file_id": "1tDCAxu1uWV-jgekuzhphOQKZZYmcg6JW",
     "timestamp": 1688325177473
    }
   ]
  },
  "kernelspec": {
   "display_name": "Python 3 (ipykernel)",
   "language": "python",
   "name": "python3"
  },
  "language_info": {
   "codemirror_mode": {
    "name": "ipython",
    "version": 3
   },
   "file_extension": ".py",
   "mimetype": "text/x-python",
   "name": "python",
   "nbconvert_exporter": "python",
   "pygments_lexer": "ipython3",
   "version": "3.9.16"
  }
 },
 "nbformat": 4,
 "nbformat_minor": 1
}
